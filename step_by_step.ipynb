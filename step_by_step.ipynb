{
 "cells": [
  {
   "cell_type": "code",
   "execution_count": null,
   "metadata": {},
   "outputs": [],
   "source": [
    "'''\n",
    "Часть 1: Основы Tarantool \n",
    "  Установка и Инициализация:\n",
    " • Установите Tarantool на свой компьютер.\n",
    " • Создайте пространство (space) данных с именем call_records для хранения записей\n",
    "   о телефонных звонках. \n",
    "\n",
    "   Структура записи должна включать следующие поля: \n",
    "   call_id (идентификатор звонка), \n",
    "   caller_number (номер звонящего),\n",
    "   callee_number (номер принимающего звонок),\n",
    "   duration (длительность звонка в секундах).\n",
    "\n",
    "\n",
    "  Операции с данными:\n",
    " • Добавьте несколько тестовых записей в пространство данных call_records,\n",
    "   представляющих собой различные телефонные звонки.\n",
    "\n",
    "'''"
   ]
  },
  {
   "cell_type": "raw",
   "metadata": {},
   "source": [
    "box.cfg{listen = 3301}\n",
    "\n",
    "s = box.schema.space.create('call_records')\n",
    "s:format({\n",
    "        {name = 'call_id', type = 'unsigned'},\n",
    "         {name = 'caller_number', type = 'string'},\n",
    "         {name = 'callee_number', type = 'string'},\n",
    "         {name = 'duration', type = 'integer'},\n",
    "         })\n",
    "\n",
    "\n",
    "s:insert{2 '89275555555', '92777777883', 300}\n",
    "s:insert{3, '92777777887', '89275555555', 500}\n",
    "s:insert{4, '92777788885', '92767643455', 750}\n",
    "s:insert{5, '89274444445', '92777788885', 300}\n",
    "s:insert{6, '92744499837', '92754322337', 500}\n",
    "s:insert{7, '92777788882', '92754322337', 750}\n",
    "\n",
    "\n"
   ]
  },
  {
   "cell_type": "code",
   "execution_count": null,
   "metadata": {},
   "outputs": [],
   "source": [
    "'''\n",
    "\n",
    "  Lua-функции:\n",
    " • Напишите Lua-функцию для выборки всех звонков, длительность которых превышает 5 минут.\n",
    " • Реализуйте Lua-функцию для добавления новой записи о звонке.\n",
    "• Реализуйте возможность удаления записей о звонках.\n",
    "\n",
    "'''"
   ]
  },
  {
   "cell_type": "raw",
   "metadata": {},
   "source": [
    "function get_long_calls(minutes)\n",
    "    local space = box.space.call_records\n",
    "    local duration_seconds = minutes * 60\n",
    "\n",
    "    local calls = {}\n",
    "\n",
    "    for _, call in space:pairs() do \n",
    "        if call.duration > duration_seconds then \n",
    "            table.insert(calls, call)\n",
    "        end \n",
    "    end \n",
    "    return calls\n",
    "end"
   ]
  },
  {
   "cell_type": "raw",
   "metadata": {},
   "source": [
    "function add_call_record(call_id, caller_number, callee_number, duration)\n",
    "    box.space.call_records:insert{call_id, caller_number, callee_number, duration }\n",
    "end"
   ]
  },
  {
   "cell_type": "raw",
   "metadata": {},
   "source": [
    "function delete_by_caller_name(caller_number)\n",
    "    local space = box.space.call_records\n",
    "\n",
    "    for _, call in space:pairs() do \n",
    "        if call.caller_number == caller_number then \n",
    "            local key = call[1]\n",
    "            space:delete(key)\n",
    "        end \n",
    "    end \n",
    "end"
   ]
  },
  {
   "attachments": {},
   "cell_type": "markdown",
   "metadata": {},
   "source": [
    "Часть 2: Оптимизация запросов и Индексы"
   ]
  },
  {
   "cell_type": "code",
   "execution_count": null,
   "metadata": {},
   "outputs": [],
   "source": [
    "'''\n",
    "  Индексы:\n",
    " • Создайте индексы для ускорения запросов:\n",
    "  индекс для поля call_id и индекс для поля caller_number.\n",
    "  Оптимизация запросов:\n",
    " • Напишите Lua-функцию, которая выбирает все звонки с указанным номером caller_number \n",
    " за последний час.\n",
    "\n",
    "'''"
   ]
  },
  {
   "cell_type": "raw",
   "metadata": {},
   "source": [
    "s:create_index('primary', {\n",
    "            parts = {'caller_id'},\n",
    "            type = 'tree',\n",
    "            unique = False\n",
    "            })\n",
    "\n",
    "\n",
    "s:create_index('secondary', {\n",
    "            parts = {'caller_number'},\n",
    "            type = 'tree',\n",
    "            unique = False\n",
    "            })"
   ]
  },
  {
   "cell_type": "raw",
   "metadata": {},
   "source": [
    "s:truncate{}"
   ]
  },
  {
   "cell_type": "raw",
   "metadata": {},
   "source": [
    "s:format({\n",
    "        {name = 'call_id', type = 'unsigned'},\n",
    "         {name = 'caller_number', type = 'string'},\n",
    "         {name = 'callee_number', type = 'string'},\n",
    "         {name = 'duration', type = 'integer'},\n",
    "         {name = 'timestamp', type = 'unsigned'}\n",
    "         })"
   ]
  },
  {
   "cell_type": "raw",
   "metadata": {},
   "source": [
    "t = os.time(os.date(\"!*t\"))\n",
    "s:insert{2, '89275555555', '92777777883', 300, t}\n",
    "s:insert{3, '92777777887', '89275555555', 500, t}\n",
    "s:insert{4, '92777788885', '92767643455', 750, t}\n",
    "s:insert{5, '89274444445', '92777788885', 300, t}\n",
    "s:insert{6, '92744499837', '92754322337', 500, t}\n",
    "s:insert{7, '92777788882', '92754322337', 750, t}"
   ]
  },
  {
   "cell_type": "raw",
   "metadata": {},
   "source": [
    "function select_fresh_calls_by_caller_number(caller_number)\n",
    "\n",
    "    local current_time = os.time(os.date(\"!*t\"))\n",
    "\n",
    "    local found_calls = box.space.call_records.index.secondary:select({caller_number})\n",
    "\n",
    "    local result = {}\n",
    "\n",
    "    for _, call in ipairs(found_calls) do\n",
    "        if current_time - call.timestamp <= 3600 then\n",
    "            table.insert(result, call)\n",
    "        end\n",
    "    end\n",
    "\n",
    "    return result\n",
    "\n",
    "\n",
    "end"
   ]
  },
  {
   "attachments": {},
   "cell_type": "markdown",
   "metadata": {},
   "source": [
    "Часть 3: HTTP-сервер"
   ]
  },
  {
   "attachments": {},
   "cell_type": "raw",
   "metadata": {},
   "source": [
    "''' \n",
    "HTTP-сервер:\n",
    " • Реализуйте простой HTTP-сервер, используя Tarantool HTTP-фреймворк или другой подходящий инструмент.\n",
    " • Создайте эндпоинт для получения информации о звонке по его идентификатору (call_id).\n",
    "\n",
    "'''"
   ]
  },
  {
   "cell_type": "raw",
   "metadata": {},
   "source": [
    "tarantoolctl rocks install http"
   ]
  },
  {
   "cell_type": "raw",
   "metadata": {},
   "source": [
    "http_server = require('http.server')\n",
    "\n",
    "\n",
    "server = http_server.new('0.0.0.0', 8080)\n",
    "\n",
    "\n",
    "local function handle_request(request)\n",
    "    local method = request.method\n",
    "    local path = request.path\n",
    "\n",
    "    local response = {\n",
    "        status = 200,\n",
    "        headers = {},\n",
    "        body = 'Hello, Tarantool!'\n",
    "    }\n",
    "\n",
    "    return response\n",
    "end\n",
    "\n",
    "server:set_route({ method = '*', path = '/.*' }, handle_request)\n",
    "\n",
    "server:start()"
   ]
  }
 ],
 "metadata": {
  "kernelspec": {
   "display_name": "base",
   "language": "python",
   "name": "python3"
  },
  "language_info": {
   "codemirror_mode": {
    "name": "ipython",
    "version": 3
   },
   "file_extension": ".py",
   "mimetype": "text/x-python",
   "name": "python",
   "nbconvert_exporter": "python",
   "pygments_lexer": "ipython3",
   "version": "3.10.12"
  },
  "orig_nbformat": 4
 },
 "nbformat": 4,
 "nbformat_minor": 2
}
